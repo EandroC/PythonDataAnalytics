{
 "cells": [
  {
   "cell_type": "code",
   "execution_count": 11,
   "id": "b5b877a7",
   "metadata": {},
   "outputs": [],
   "source": [
    "import unittest\n",
    "from unittest.mock import patch\n",
    "import io\n",
    "import sys"
   ]
  },
  {
   "cell_type": "markdown",
   "id": "5d9e6419",
   "metadata": {},
   "source": [
    "**Desafio 1 :**  \n",
    "Você é um intrépido explorador em uma jornada por uma terra desconhecida repleta de desafios emocionantes. Ao se deparar com uma floresta misteriosa, você percebe que a única maneira de atravessá-la é desvendando seus caminhos por meio de um código em Python. Prepare-se para a \"Aventura do Explorador\"!\n",
    "\n",
    "Entrada\n",
    "Seu programa deve solicitar ao usuário a entrada de um número inteiro positivo, representando a quantidade de passos que o explorador deve dar na floresta. .\n",
    "\n",
    "Saída\n",
    "O programa deve imprimir uma mensagem indicando o progresso do explorador na floresta. Utilize um laço de repetição para simular os passos do explorador. A cada passo, imprima uma mensagem informando a distância percorrida até o momento.\n",
    "\n",
    "Exemplos\n",
    "A tabela abaixo apresenta exemplos com alguns dados de entrada e suas respectivas saídas esperadas. Certifique-se de testar seu programa com esses exemplos e com outros casos possíveis.\n",
    "\n",
    "Entrada\tSaída\n",
    "2\n",
    "\n",
    "Explorador: 1 passo\n",
    "Explorador: 2 passos\n",
    "\n",
    "3\n",
    "\n",
    "Explorador: 1 passo\n",
    "Explorador: 2 passos\n",
    "Explorador: 3 passos\n",
    "0\n",
    "\n",
    "Nenhum passo dado na floresta."
   ]
  },
  {
   "cell_type": "code",
   "execution_count": 1,
   "id": "49ced574",
   "metadata": {},
   "outputs": [
    {
     "name": "stdout",
     "output_type": "stream",
     "text": [
      "Digite a quantidade de passos: 2\n",
      "Explorador: 1 passo\n",
      "Explorador: 2 passos\n"
     ]
    }
   ],
   "source": [
    "quantidade_passos = int(input(\"Digite a quantidade de passos: \"))\n",
    "\n",
    "if quantidade_passos <= 0:\n",
    "    print('Nenhum passo dado na floresta.')\n",
    "else:\n",
    "    for i in range(1, quantidade_passos + 1):\n",
    "        if i == 1:\n",
    "            print(f'Explorador: {i} passo')\n",
    "        else:\n",
    "            print(f'Explorador: {i} passos')"
   ]
  },
  {
   "cell_type": "markdown",
   "id": "6b055dba",
   "metadata": {},
   "source": [
    "**Desafio 2 :**  \n",
    "Em um jogo de RPG, os personagens geralmente possuem uma lista de itens que podem ser utilizados durante o jogo. Esses itens podem ser armas, armaduras, poções de cura, entre outros. É importante que o jogador tenha um controle desses itens para poder utilizá-los no momento adequado.\n",
    "\n",
    "Crie um programa que permita cadastrar uma lista de itens que o personagem possui. A lista deve conter o valor fixo de 3 itens e deve ser exibida na tela.\n",
    "\n",
    "Entrada\n",
    "O programa deve solicitar ao usuário o nome dos 3 itens que o personagem possui. Cada item deve ser cadastrado separadamente.\n",
    "\n",
    "Saída\n",
    "Após receber os itens cadastrados pelo usuário, o programa deve exibir na tela a lista de itens que o personagem possui. A saída deve ter o seguinte formato:\n",
    "\n",
    "Lista de itens:\n",
    "- [item1]\n",
    "- [item2]\n",
    "- [item3]\n",
    "\n",
    "Exemplos\n",
    "A tabela abaixo apresenta exemplos com alguns dados de entrada e suas respectivas saídas esperadas. Certifique-se de testar seu programa com esses exemplos e com outros casos possíveis.\n",
    "\n",
    "Entrada\tSaída\n",
    "Espada\n",
    "Escudo\n",
    "Poção\n",
    "\n",
    "Lista de itens:\n",
    "- Espada\n",
    "- Escudo\n",
    "- Poção\n",
    "\n",
    "Gema\n",
    "Flecha\n",
    "Capa\n",
    "\n",
    "Lista de itens:\n",
    "- Gema\n",
    "- Flecha\n",
    "- Capa\n",
    "Masterball\n",
    "Potion\n",
    "Elixir\n",
    "\n",
    "Lista de itens:\n",
    "- Masterball\n",
    "- Potion\n",
    "- Elixir"
   ]
  },
  {
   "cell_type": "code",
   "execution_count": 3,
   "id": "3e18483d",
   "metadata": {},
   "outputs": [
    {
     "name": "stdout",
     "output_type": "stream",
     "text": [
      "3\n",
      "3\n",
      "2\n",
      "Lista de itens:\n",
      "- 3\n",
      "- 3\n",
      "- 2\n"
     ]
    }
   ],
   "source": [
    "# Lista para armazenar os itens\n",
    "itens = []\n",
    "\n",
    "cont = 0\n",
    "\n",
    "while cont < 3:\n",
    "    if cont < 3: \n",
    "        itens.append(input())\n",
    "        cont += 1  \n",
    "    else:\n",
    "        break\n",
    "\n",
    "# Exibe a lista de itens\n",
    "print(\"Lista de itens:\")\n",
    "for item in itens:\n",
    "    print(f\"- {item}\")"
   ]
  },
  {
   "cell_type": "markdown",
   "id": "f6581512",
   "metadata": {},
   "source": [
    "**Desafio 3 :**  \n",
    "Com as máquinas pesadas agrupadas estrategicamente, graças ao seu algoritmo de cálculo energético, agora a mineração está muito mais eficiente! Com isso, os CodeMiners logo terão que aumentar a capacidade de armazenamento de dados em seus discos de Mithril. Atualmente, cada máquina tem uma capacidade em teraflops e todas terão um upgrade! Escreva um programa que calcule a nova capacidade total de todas as máquinas após um aumento percentual específico.\n",
    "\n",
    "Entrada\n",
    "Dois valores inteiros positivos, representando a capacidade atual total em teraflops e o aumento percentual, separados por espaço.\n",
    "\n",
    "Saída\n",
    "A nova capacidade total em teraflops.\n",
    "\n",
    "Exemplos\n",
    "A tabela abaixo apresenta exemplos com alguns dados de entrada e suas respectivas saídas esperadas. Certifique-se de testar seu programa com esses exemplos e com outros casos possíveis.\n",
    "\n",
    "Entrada\tSaída\n",
    "100 20\t120\n",
    "50 10\t55\n",
    "200 50\t300"
   ]
  },
  {
   "cell_type": "code",
   "execution_count": 10,
   "id": "8f9f0354",
   "metadata": {},
   "outputs": [
    {
     "name": "stdout",
     "output_type": "stream",
     "text": [
      "100 20\n",
      "100 20\n"
     ]
    },
    {
     "data": {
      "text/plain": [
       "120"
      ]
     },
     "execution_count": 10,
     "metadata": {},
     "output_type": "execute_result"
    }
   ],
   "source": [
    "capacidade_atual, aumento_percentual = map(int, input().split())\n",
    "\n",
    "total = int(capacidade_atual*aumento_percentual/100+capacidade_atual)\n",
    "\n",
    "total"
   ]
  },
  {
   "cell_type": "code",
   "execution_count": null,
   "id": "7b3e2e27",
   "metadata": {},
   "outputs": [],
   "source": []
  },
  {
   "cell_type": "code",
   "execution_count": null,
   "id": "79d901cf",
   "metadata": {},
   "outputs": [],
   "source": []
  }
 ],
 "metadata": {
  "kernelspec": {
   "display_name": "Python 3 (ipykernel)",
   "language": "python",
   "name": "python3"
  },
  "language_info": {
   "codemirror_mode": {
    "name": "ipython",
    "version": 3
   },
   "file_extension": ".py",
   "mimetype": "text/x-python",
   "name": "python",
   "nbconvert_exporter": "python",
   "pygments_lexer": "ipython3",
   "version": "3.11.5"
  }
 },
 "nbformat": 4,
 "nbformat_minor": 5
}
